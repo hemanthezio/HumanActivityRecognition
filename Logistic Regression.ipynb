{
 "cells": [
  {
   "cell_type": "markdown",
   "metadata": {},
   "source": [
    "# <center><font color='green'>MHealth Logistic Regression Manuel</font></center>"
   ]
  },
  {
   "cell_type": "markdown",
   "metadata": {},
   "source": [
    "# <font color='blue'>Importing dataset</font>"
   ]
  },
  {
   "cell_type": "code",
   "execution_count": 1,
   "metadata": {},
   "outputs": [
    {
     "data": {
      "text/html": [
       "<div>\n",
       "<style>\n",
       "    .dataframe thead tr:only-child th {\n",
       "        text-align: right;\n",
       "    }\n",
       "\n",
       "    .dataframe thead th {\n",
       "        text-align: left;\n",
       "    }\n",
       "\n",
       "    .dataframe tbody tr th {\n",
       "        vertical-align: top;\n",
       "    }\n",
       "</style>\n",
       "<table border=\"1\" class=\"dataframe\">\n",
       "  <thead>\n",
       "    <tr style=\"text-align: right;\">\n",
       "      <th></th>\n",
       "      <th>0</th>\n",
       "      <th>1</th>\n",
       "      <th>2</th>\n",
       "      <th>3</th>\n",
       "      <th>4</th>\n",
       "      <th>5</th>\n",
       "      <th>6</th>\n",
       "      <th>7</th>\n",
       "      <th>8</th>\n",
       "      <th>9</th>\n",
       "      <th>...</th>\n",
       "      <th>14</th>\n",
       "      <th>15</th>\n",
       "      <th>16</th>\n",
       "      <th>17</th>\n",
       "      <th>18</th>\n",
       "      <th>19</th>\n",
       "      <th>20</th>\n",
       "      <th>21</th>\n",
       "      <th>22</th>\n",
       "      <th>23</th>\n",
       "    </tr>\n",
       "  </thead>\n",
       "  <tbody>\n",
       "    <tr>\n",
       "      <th>count</th>\n",
       "      <td>343195.000000</td>\n",
       "      <td>343195.000000</td>\n",
       "      <td>343195.000000</td>\n",
       "      <td>343195.000000</td>\n",
       "      <td>343195.000000</td>\n",
       "      <td>343195.000000</td>\n",
       "      <td>343195.000000</td>\n",
       "      <td>343195.000000</td>\n",
       "      <td>343195.000000</td>\n",
       "      <td>343195.000000</td>\n",
       "      <td>...</td>\n",
       "      <td>343195.000000</td>\n",
       "      <td>343195.000000</td>\n",
       "      <td>343195.000000</td>\n",
       "      <td>343195.000000</td>\n",
       "      <td>343195.000000</td>\n",
       "      <td>343195.000000</td>\n",
       "      <td>343195.000000</td>\n",
       "      <td>343195.000000</td>\n",
       "      <td>343195.000000</td>\n",
       "      <td>343195.000000</td>\n",
       "    </tr>\n",
       "    <tr>\n",
       "      <th>mean</th>\n",
       "      <td>-7.485271</td>\n",
       "      <td>-0.140923</td>\n",
       "      <td>-0.938418</td>\n",
       "      <td>0.003649</td>\n",
       "      <td>-0.008048</td>\n",
       "      <td>1.805184</td>\n",
       "      <td>-9.061487</td>\n",
       "      <td>-0.701985</td>\n",
       "      <td>0.101167</td>\n",
       "      <td>-0.549942</td>\n",
       "      <td>...</td>\n",
       "      <td>-3.448201</td>\n",
       "      <td>-5.781446</td>\n",
       "      <td>2.381165</td>\n",
       "      <td>-0.201574</td>\n",
       "      <td>-0.410515</td>\n",
       "      <td>0.380693</td>\n",
       "      <td>-0.532629</td>\n",
       "      <td>1.422140</td>\n",
       "      <td>0.030670</td>\n",
       "      <td>6.169021</td>\n",
       "    </tr>\n",
       "    <tr>\n",
       "      <th>std</th>\n",
       "      <td>5.701949</td>\n",
       "      <td>2.799380</td>\n",
       "      <td>4.611164</td>\n",
       "      <td>0.839074</td>\n",
       "      <td>0.857724</td>\n",
       "      <td>4.214175</td>\n",
       "      <td>5.200389</td>\n",
       "      <td>6.457622</td>\n",
       "      <td>0.458913</td>\n",
       "      <td>0.434721</td>\n",
       "      <td>...</td>\n",
       "      <td>5.891595</td>\n",
       "      <td>6.578371</td>\n",
       "      <td>4.177971</td>\n",
       "      <td>0.549524</td>\n",
       "      <td>0.546359</td>\n",
       "      <td>0.515658</td>\n",
       "      <td>34.216257</td>\n",
       "      <td>30.285262</td>\n",
       "      <td>82.663004</td>\n",
       "      <td>3.298902</td>\n",
       "    </tr>\n",
       "    <tr>\n",
       "      <th>min</th>\n",
       "      <td>-22.438000</td>\n",
       "      <td>-20.188000</td>\n",
       "      <td>-18.401000</td>\n",
       "      <td>-8.619600</td>\n",
       "      <td>-8.619600</td>\n",
       "      <td>-22.146000</td>\n",
       "      <td>-19.619000</td>\n",
       "      <td>-19.373000</td>\n",
       "      <td>-1.779200</td>\n",
       "      <td>-2.660400</td>\n",
       "      <td>...</td>\n",
       "      <td>-22.345000</td>\n",
       "      <td>-18.972000</td>\n",
       "      <td>-18.238000</td>\n",
       "      <td>-1.170600</td>\n",
       "      <td>-2.256700</td>\n",
       "      <td>-1.114200</td>\n",
       "      <td>-319.030000</td>\n",
       "      <td>-358.130000</td>\n",
       "      <td>-702.570000</td>\n",
       "      <td>1.000000</td>\n",
       "    </tr>\n",
       "    <tr>\n",
       "      <th>25%</th>\n",
       "      <td>-9.707100</td>\n",
       "      <td>-1.294300</td>\n",
       "      <td>-3.686550</td>\n",
       "      <td>-0.213500</td>\n",
       "      <td>-0.171640</td>\n",
       "      <td>0.159875</td>\n",
       "      <td>-10.063000</td>\n",
       "      <td>-3.494350</td>\n",
       "      <td>-0.345080</td>\n",
       "      <td>-0.810510</td>\n",
       "      <td>...</td>\n",
       "      <td>-5.013900</td>\n",
       "      <td>-9.558100</td>\n",
       "      <td>0.139070</td>\n",
       "      <td>-0.682350</td>\n",
       "      <td>-0.831620</td>\n",
       "      <td>-0.040948</td>\n",
       "      <td>-6.228350</td>\n",
       "      <td>-7.272000</td>\n",
       "      <td>-12.170000</td>\n",
       "      <td>3.000000</td>\n",
       "    </tr>\n",
       "    <tr>\n",
       "      <th>50%</th>\n",
       "      <td>-8.800300</td>\n",
       "      <td>-0.292570</td>\n",
       "      <td>-0.881070</td>\n",
       "      <td>-0.071167</td>\n",
       "      <td>-0.046049</td>\n",
       "      <td>1.372500</td>\n",
       "      <td>-9.597700</td>\n",
       "      <td>0.340070</td>\n",
       "      <td>0.204080</td>\n",
       "      <td>-0.688560</td>\n",
       "      <td>...</td>\n",
       "      <td>-2.480000</td>\n",
       "      <td>-7.738900</td>\n",
       "      <td>1.819100</td>\n",
       "      <td>-0.300000</td>\n",
       "      <td>-0.597540</td>\n",
       "      <td>0.448280</td>\n",
       "      <td>0.360740</td>\n",
       "      <td>0.353930</td>\n",
       "      <td>-0.709300</td>\n",
       "      <td>6.000000</td>\n",
       "    </tr>\n",
       "    <tr>\n",
       "      <th>75%</th>\n",
       "      <td>-5.117400</td>\n",
       "      <td>0.984775</td>\n",
       "      <td>1.092650</td>\n",
       "      <td>0.163270</td>\n",
       "      <td>0.138150</td>\n",
       "      <td>2.924450</td>\n",
       "      <td>-7.549800</td>\n",
       "      <td>1.819300</td>\n",
       "      <td>0.487940</td>\n",
       "      <td>-0.487800</td>\n",
       "      <td>...</td>\n",
       "      <td>-0.539050</td>\n",
       "      <td>-2.359550</td>\n",
       "      <td>5.324750</td>\n",
       "      <td>0.278430</td>\n",
       "      <td>-0.045175</td>\n",
       "      <td>0.840520</td>\n",
       "      <td>5.224000</td>\n",
       "      <td>8.350250</td>\n",
       "      <td>10.302500</td>\n",
       "      <td>9.000000</td>\n",
       "    </tr>\n",
       "    <tr>\n",
       "      <th>max</th>\n",
       "      <td>19.094000</td>\n",
       "      <td>20.927000</td>\n",
       "      <td>26.196000</td>\n",
       "      <td>8.506500</td>\n",
       "      <td>8.519100</td>\n",
       "      <td>20.024000</td>\n",
       "      <td>21.161000</td>\n",
       "      <td>25.015000</td>\n",
       "      <td>1.710600</td>\n",
       "      <td>1.752300</td>\n",
       "      <td>...</td>\n",
       "      <td>19.801000</td>\n",
       "      <td>21.965000</td>\n",
       "      <td>25.741000</td>\n",
       "      <td>1.415700</td>\n",
       "      <td>1.121100</td>\n",
       "      <td>1.528000</td>\n",
       "      <td>239.690000</td>\n",
       "      <td>335.250000</td>\n",
       "      <td>657.180000</td>\n",
       "      <td>12.000000</td>\n",
       "    </tr>\n",
       "  </tbody>\n",
       "</table>\n",
       "<p>8 rows × 24 columns</p>\n",
       "</div>"
      ],
      "text/plain": [
       "                  0              1              2              3   \\\n",
       "count  343195.000000  343195.000000  343195.000000  343195.000000   \n",
       "mean       -7.485271      -0.140923      -0.938418       0.003649   \n",
       "std         5.701949       2.799380       4.611164       0.839074   \n",
       "min       -22.438000     -20.188000     -18.401000      -8.619600   \n",
       "25%        -9.707100      -1.294300      -3.686550      -0.213500   \n",
       "50%        -8.800300      -0.292570      -0.881070      -0.071167   \n",
       "75%        -5.117400       0.984775       1.092650       0.163270   \n",
       "max        19.094000      20.927000      26.196000       8.506500   \n",
       "\n",
       "                  4              5              6              7   \\\n",
       "count  343195.000000  343195.000000  343195.000000  343195.000000   \n",
       "mean       -0.008048       1.805184      -9.061487      -0.701985   \n",
       "std         0.857724       4.214175       5.200389       6.457622   \n",
       "min        -8.619600     -22.146000     -19.619000     -19.373000   \n",
       "25%        -0.171640       0.159875     -10.063000      -3.494350   \n",
       "50%        -0.046049       1.372500      -9.597700       0.340070   \n",
       "75%         0.138150       2.924450      -7.549800       1.819300   \n",
       "max         8.519100      20.024000      21.161000      25.015000   \n",
       "\n",
       "                  8              9       ...                   14  \\\n",
       "count  343195.000000  343195.000000      ...        343195.000000   \n",
       "mean        0.101167      -0.549942      ...            -3.448201   \n",
       "std         0.458913       0.434721      ...             5.891595   \n",
       "min        -1.779200      -2.660400      ...           -22.345000   \n",
       "25%        -0.345080      -0.810510      ...            -5.013900   \n",
       "50%         0.204080      -0.688560      ...            -2.480000   \n",
       "75%         0.487940      -0.487800      ...            -0.539050   \n",
       "max         1.710600       1.752300      ...            19.801000   \n",
       "\n",
       "                  15             16             17             18  \\\n",
       "count  343195.000000  343195.000000  343195.000000  343195.000000   \n",
       "mean       -5.781446       2.381165      -0.201574      -0.410515   \n",
       "std         6.578371       4.177971       0.549524       0.546359   \n",
       "min       -18.972000     -18.238000      -1.170600      -2.256700   \n",
       "25%        -9.558100       0.139070      -0.682350      -0.831620   \n",
       "50%        -7.738900       1.819100      -0.300000      -0.597540   \n",
       "75%        -2.359550       5.324750       0.278430      -0.045175   \n",
       "max        21.965000      25.741000       1.415700       1.121100   \n",
       "\n",
       "                  19             20             21             22  \\\n",
       "count  343195.000000  343195.000000  343195.000000  343195.000000   \n",
       "mean        0.380693      -0.532629       1.422140       0.030670   \n",
       "std         0.515658      34.216257      30.285262      82.663004   \n",
       "min        -1.114200    -319.030000    -358.130000    -702.570000   \n",
       "25%        -0.040948      -6.228350      -7.272000     -12.170000   \n",
       "50%         0.448280       0.360740       0.353930      -0.709300   \n",
       "75%         0.840520       5.224000       8.350250      10.302500   \n",
       "max         1.528000     239.690000     335.250000     657.180000   \n",
       "\n",
       "                  23  \n",
       "count  343195.000000  \n",
       "mean        6.169021  \n",
       "std         3.298902  \n",
       "min         1.000000  \n",
       "25%         3.000000  \n",
       "50%         6.000000  \n",
       "75%         9.000000  \n",
       "max        12.000000  \n",
       "\n",
       "[8 rows x 24 columns]"
      ]
     },
     "execution_count": 1,
     "metadata": {},
     "output_type": "execute_result"
    }
   ],
   "source": [
    "import pandas as pd\n",
    "dataset = pd.read_csv(\"dataset/dataset_filtered.csv\",header=None)\n",
    "dataset.describe()"
   ]
  },
  {
   "cell_type": "code",
   "execution_count": 2,
   "metadata": {},
   "outputs": [
    {
     "name": "stdout",
     "output_type": "stream",
     "text": [
      "Dataset targets:\n",
      " 11    30720\n",
      "10    30720\n",
      "9     30720\n",
      "5     30720\n",
      "4     30720\n",
      "3     30720\n",
      "2     30720\n",
      "1     30720\n",
      "7     29441\n",
      "8     29337\n",
      "6     28315\n",
      "12    10342\n",
      "Name: 23, dtype: int64 \n",
      "\n"
     ]
    }
   ],
   "source": [
    "print(\"Dataset targets:\\n\",dataset[23].value_counts(),\"\\n\")"
   ]
  },
  {
   "cell_type": "markdown",
   "metadata": {},
   "source": [
    "# <font color='blue'>Splitting the dataset into the Training set and Test set</font> "
   ]
  },
  {
   "cell_type": "code",
   "execution_count": 3,
   "metadata": {},
   "outputs": [
    {
     "name": "stderr",
     "output_type": "stream",
     "text": [
      "C:\\Users\\Hemanth kumar\\Anaconda3\\lib\\site-packages\\sklearn\\cross_validation.py:41: DeprecationWarning: This module was deprecated in version 0.18 in favor of the model_selection module into which all the refactored classes and functions are moved. Also note that the interface of the new CV iterators are different from that of this module. This module will be removed in 0.20.\n",
      "  \"This module will be removed in 0.20.\", DeprecationWarning)\n"
     ]
    }
   ],
   "source": [
    "from sklearn.cross_validation import train_test_split\n",
    "X=dataset.iloc[:,:-1].values\n",
    "y=dataset.iloc[:,[-1]].values\n",
    "X_train, X_test, y_train, y_test = train_test_split(X, y, test_size = 0.20, random_state = 0)\n",
    "y_test=y_test.reshape(len(y_test),1)"
   ]
  },
  {
   "cell_type": "code",
   "execution_count": 4,
   "metadata": {},
   "outputs": [
    {
     "name": "stdout",
     "output_type": "stream",
     "text": [
      "Total Number of instances:  343195\n",
      "Total Number of Training :  274556\n",
      "Total Number of Testing  :  68639\n",
      "Number of features       :  23\n",
      "Number of Target labels  :  12\n"
     ]
    }
   ],
   "source": [
    "print(\"Total Number of instances: \",len(dataset))\n",
    "print(\"Total Number of Training : \",len(X_train))\n",
    "print(\"Total Number of Testing  : \",len(X_test))\n",
    "print(\"Number of features       : \",len(X_train[0]))\n",
    "print(\"Number of Target labels  : \",dataset[23].nunique())"
   ]
  },
  {
   "cell_type": "markdown",
   "metadata": {},
   "source": [
    "# <font color='blue'>Feature Scaling</font>"
   ]
  },
  {
   "cell_type": "code",
   "execution_count": 5,
   "metadata": {
    "collapsed": true
   },
   "outputs": [],
   "source": [
    "from sklearn.preprocessing import StandardScaler\n",
    "sc = StandardScaler()\n",
    "X_train = sc.fit_transform(X_train)\n",
    "X_test = sc.transform(X_test)"
   ]
  },
  {
   "cell_type": "markdown",
   "metadata": {},
   "source": [
    "# <font color='blue'>Building the Logistic Regression model</font>"
   ]
  },
  {
   "cell_type": "code",
   "execution_count": 6,
   "metadata": {},
   "outputs": [
    {
     "name": "stderr",
     "output_type": "stream",
     "text": [
      "C:\\Users\\Hemanth kumar\\Anaconda3\\lib\\site-packages\\sklearn\\utils\\validation.py:578: DataConversionWarning: A column-vector y was passed when a 1d array was expected. Please change the shape of y to (n_samples, ), for example using ravel().\n",
      "  y = column_or_1d(y, warn=True)\n"
     ]
    },
    {
     "data": {
      "text/plain": [
       "LogisticRegression(C=1.0, class_weight=None, dual=False, fit_intercept=True,\n",
       "          intercept_scaling=1, max_iter=100, multi_class='multinomial',\n",
       "          n_jobs=1, penalty='l2', random_state=0, solver='newton-cg',\n",
       "          tol=0.0001, verbose=0, warm_start=False)"
      ]
     },
     "execution_count": 6,
     "metadata": {},
     "output_type": "execute_result"
    }
   ],
   "source": [
    "# Fitting Logistic Regression to the Training set\n",
    "from sklearn.linear_model import LogisticRegression\n",
    "classifier = LogisticRegression(random_state = 0,multi_class=\"multinomial\",solver='newton-cg')\n",
    "classifier.fit(X_train, y_train)"
   ]
  },
  {
   "cell_type": "markdown",
   "metadata": {},
   "source": [
    "# <font color='blue'>Making the predictions and evaluating the model</font>"
   ]
  },
  {
   "cell_type": "code",
   "execution_count": 7,
   "metadata": {},
   "outputs": [
    {
     "name": "stdout",
     "output_type": "stream",
     "text": [
      "Train Accuracy Score: 72.92610614956511 %\n",
      "Test Accuracy Score: 72.91190139716488 %\n"
     ]
    }
   ],
   "source": [
    "from sklearn.metrics import accuracy_score\n",
    "y_pred = classifier.predict(X_train)\n",
    "accuracy_train = accuracy_score(y_train,y_pred)\n",
    "\n",
    "\n",
    "y_pred = classifier.predict(X_test)\n",
    "accuracy_test= accuracy_score(y_test,y_pred)\n",
    "\n",
    "print('Train Accuracy Score:',accuracy_train*100,'%')\n",
    "print('Test Accuracy Score:',accuracy_test*100,'%')"
   ]
  }
 ],
 "metadata": {
  "kernelspec": {
   "display_name": "Python 3",
   "language": "python",
   "name": "python3"
  },
  "language_info": {
   "codemirror_mode": {
    "name": "ipython",
    "version": 3
   },
   "file_extension": ".py",
   "mimetype": "text/x-python",
   "name": "python",
   "nbconvert_exporter": "python",
   "pygments_lexer": "ipython3",
   "version": "3.6.3"
  }
 },
 "nbformat": 4,
 "nbformat_minor": 2
}
